{
 "cells": [
  {
   "cell_type": "markdown",
   "id": "32181d00",
   "metadata": {},
   "source": [
    "Chapter 3 Exercises:\n",
    "\n",
    "3.1: 60 * 60 = 3600\n",
    "\n",
    "3.2: seconds_per_hour = 3600\n",
    "\n",
    "3.3: seconds_per_hour * 24 = 86400\n",
    "\n",
    "3.4: seconds_per_day = seconds_per_hour * 24\n",
    "    seconds_per_day\n",
    "\n",
    "3.5: seconds_per_day / seconds_per_hour = 24.0\n",
    "\n",
    "3.6: seconds_per_day // seconds_per_hour = 24\n",
    "        This number did agree with the floating point value from the question above, just the final .0 was missing."
   ]
  }
 ],
 "metadata": {
  "kernelspec": {
   "display_name": "Python 3 (ipykernel)",
   "language": "python",
   "name": "python3"
  },
  "language_info": {
   "codemirror_mode": {
    "name": "ipython",
    "version": 3
   },
   "file_extension": ".py",
   "mimetype": "text/x-python",
   "name": "python",
   "nbconvert_exporter": "python",
   "pygments_lexer": "ipython3",
   "version": "3.10.5"
  }
 },
 "nbformat": 4,
 "nbformat_minor": 5
}
